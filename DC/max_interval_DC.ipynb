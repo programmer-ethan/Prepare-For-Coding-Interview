{
 "cells": [
  {
   "cell_type": "code",
   "execution_count": null,
   "source": [
    "# [제출]\r\n",
    "# 점화식: T(n) = 2*T(n/2) +cn\r\n",
    "# 이를 전개하면 T(n) = n*T(1) + c*n*logn\r\n",
    "# 따라서 수행시간은 최악의 경우 : O(nlogn)\r\n",
    "def max_interval_DC(A,l,r): # 재귀 반으로 나눠서\r\n",
    "    if l>=r: return A[l] # 재귀 종료 조건\r\n",
    "    m=(l+r)//2\r\n",
    "    L=max_interval_DC(A,l,m)# 왼\r\n",
    "    R=max_interval_DC(A,m+1,r)# 오\r\n",
    "    max_L=A[m]\r\n",
    "    M_L=A[m]\r\n",
    "    for i in range(m-1,l-1,-1):#왼\r\n",
    "        M_L+=A[i]\r\n",
    "        if max_L<M_L:\r\n",
    "            max_L=M_L\r\n",
    "\r\n",
    "    max_R=A[m+1]\r\n",
    "    M_R=A[m+1]\r\n",
    "    for i in range(m+2,r+1): # 오\r\n",
    "        M_R+=A[i]\r\n",
    "        if max_R<M_R:\r\n",
    "            max_R=M_R\r\n",
    "    M=max_L+max_R\r\n",
    "    \r\n",
    "    max_=L # 세개의 값 중 최대값 구하기\r\n",
    "    if max_<R: max_=R\r\n",
    "    if max_<M: max_=M\r\n",
    "    return max_\r\n",
    "\t\r\n",
    "\r\n",
    "A = [int(x) for x in input().split()]\r\n",
    "print(max_interval_DC(A,0,len(A)-1))"
   ],
   "outputs": [],
   "metadata": {}
  }
 ],
 "metadata": {
  "orig_nbformat": 4,
  "language_info": {
   "name": "python"
  }
 },
 "nbformat": 4,
 "nbformat_minor": 2
}