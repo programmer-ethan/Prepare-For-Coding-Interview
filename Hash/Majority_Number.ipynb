{
 "cells": [
  {
   "cell_type": "code",
   "execution_count": 1,
   "source": [
    "from collections import Counter\r\n",
    "def counter(A, n):\r\n",
    "\tc=Counter(A)\r\n",
    "\tmax_=c.most_common(n=1)\r\n",
    "\tif max_[0][1] > (n/2):\r\n",
    "\t\treturn max_[0][0]\r\n",
    "\telse:\r\n",
    "\t\treturn -1"
   ],
   "outputs": [],
   "metadata": {}
  },
  {
   "cell_type": "code",
   "execution_count": 2,
   "source": [
    "def counter(A, n):\r\n",
    "\tnum_counts={} # dict() 생성\r\n",
    "\tfor num in A:# 입력된 리스트 A를 스캔하며 counter에 해당하는 dict() 만듬\r\n",
    "\t\tprevious_count=num_counts.get(num,0) # 기존값 읽어오고, 없으면 0\r\n",
    "\t\tnum_counts[num]=previous_count+1 # count +1\r\n",
    "\t# max 초깃값 initialize\r\n",
    "\tmax_val=0\r\n",
    "\tmax_key=0 \r\n",
    "\tfor key, value in num_counts.items(): # dict를 스캔하며 max value 찾기\r\n",
    "\t\tif max_val < value: # 더 큰 value가 나오면 key, value를 갱신\r\n",
    "\t\t\tmax_val = value \r\n",
    "\t\t\tmax_key = key\r\n",
    "\tif max_val > (n/2): # majority 수이면, 즉 절반보다 많이 나왔으면\r\n",
    "\t\treturn max_key # 해당 값(key) return\r\n",
    "\telse:\r\n",
    "\t\treturn -1 # 절반보다 적거나 같으면, majority 수가 아니므로\r\n",
    "\t\r\n",
    "A = [int(x) for x in input().split()]\r\n",
    "n=len(A)\r\n",
    "print(counter(A, n))"
   ],
   "outputs": [
    {
     "output_type": "stream",
     "name": "stdout",
     "text": [
      "1\n"
     ]
    }
   ],
   "metadata": {}
  },
  {
   "cell_type": "code",
   "execution_count": null,
   "source": [],
   "outputs": [],
   "metadata": {}
  }
 ],
 "metadata": {
  "orig_nbformat": 4,
  "language_info": {
   "name": "python",
   "version": "3.8.10",
   "mimetype": "text/x-python",
   "codemirror_mode": {
    "name": "ipython",
    "version": 3
   },
   "pygments_lexer": "ipython3",
   "nbconvert_exporter": "python",
   "file_extension": ".py"
  },
  "kernelspec": {
   "name": "python3",
   "display_name": "Python 3.8.10 64-bit ('base': conda)"
  },
  "interpreter": {
   "hash": "a7401fdbc441e771371315dfd74d70672a7e5696f5857508b031491b5c8705db"
  }
 },
 "nbformat": 4,
 "nbformat_minor": 2
}