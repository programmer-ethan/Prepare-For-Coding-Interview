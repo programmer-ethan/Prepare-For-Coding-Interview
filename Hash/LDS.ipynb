{
 "cells": [
  {
   "cell_type": "code",
   "execution_count": null,
   "source": [
    "#서로 다른 문자 최장 부문자열 찾기\r\n",
    "\r\n",
    "# O(n)이었는데...\r\n",
    "# set에 존재성 여부로 하면\r\n",
    "# 즉... set을 만들고 새로운 문자가 포함되는지 판단하면..?\r\n",
    "# 처음걸로 하려면, 같을 때 갱신 안하면 된다.\r\n",
    "# set을 그러면 리스트... 여야 하나?\r\n",
    "# 더 간단한 O(n)으로도 되지 않을까? 앞에서부터\r\n",
    "def LIS_DP(seq):\r\n",
    "\tn=len(seq)\r\n",
    "\t# x=[0]*n\r\n",
    "\tDP=[1]*n\r\n",
    "\tfor k in range(1,n):\r\n",
    "\t\tfor j in range(k):\r\n",
    "\t\t\tif seq[j]<seq[k]:\r\n",
    "\t\t\t\tDP[k]=max(DP[k],DP[j]+1)\r\n",
    "\tfor k in range(n):\r\n",
    "\t\treturn max(DP)\r\n",
    "    # code here\r\n",
    "\r\n",
    "seq = input()  # 알파벳 소문자로만 구성된 string 하나가 입력된다\r\n",
    "# lis, x = LIS_DP(seq)\r\n",
    "lis = LIS_DP(seq)\r\n",
    "print(lis)"
   ],
   "outputs": [],
   "metadata": {}
  },
  {
   "cell_type": "code",
   "execution_count": 16,
   "source": [
    "def longest_diff_string(seq):\r\n",
    "    n = len(seq)\r\n",
    "    long = [0] * n\r\n",
    "    for i in range(n):\r\n",
    "        S = set()\r\n",
    "        for j in range(i,n):\r\n",
    "            if seq[j] not in S:\r\n",
    "                S.add(seq[j])\r\n",
    "                long[i]+=1\r\n",
    "            else: break\r\n",
    "    idx=0\r\n",
    "    Max = long[0]\r\n",
    "    for i in range(1,n):\r\n",
    "        if Max < long[i]:\r\n",
    "            idx = i\r\n",
    "            Max = long[i]\r\n",
    "    return idx , Max\r\n",
    "\r\n",
    "seq = input()\r\n",
    "a,b = longest_diff_string(seq)\r\n",
    "print(a,b)"
   ],
   "outputs": [
    {
     "output_type": "stream",
     "name": "stdout",
     "text": [
      "6 10\n"
     ]
    }
   ],
   "metadata": {}
  },
  {
   "cell_type": "code",
   "execution_count": 2,
   "source": [
    "s = set()\r\n",
    "s. add(1)\r\n",
    "s. add(2)\r\n",
    "# s = set()\r\n",
    "print(s)\r\n"
   ],
   "outputs": [
    {
     "output_type": "stream",
     "name": "stdout",
     "text": [
      "{1, 2}\n"
     ]
    }
   ],
   "metadata": {}
  },
  {
   "cell_type": "code",
   "execution_count": 17,
   "source": [
    "def solve(seq):\r\n",
    "\tn = len(seq)\r\n",
    "\tMax = [0] * n # A[i]로 끝나는 최장 부문자열 길이\r\n",
    "\tcurr_max = 0\r\n",
    "\ta = {}\r\n",
    "\ttemp = 0\r\n",
    "\tfor i in range(n):\r\n",
    "\t\ttry:\r\n",
    "\t\t\ttemp = a[seq[i]]\r\n",
    "\t\texcept KeyError:\r\n",
    "\t\t\tcurr_max +=1\r\n",
    "\t\t\tMax[i] = curr_max\r\n",
    "\t\t\ta[seq[i]] = i\r\n",
    "\t\telse:\r\n",
    "\t\t\tcurr_max = i - a[seq[i]]\r\n",
    "\t\t\tMax[i] = curr_max\r\n",
    "\t\t\ta[seq[i]] = i\r\n",
    "\tidx = 0\r\n",
    "\tmax_leng = 0\r\n",
    "\tfor i in range(n):\r\n",
    "\t\tif max_leng < Max[i]:\r\n",
    "\t\t\tmax_leng = Max[i]\r\n",
    "\t\t\tidx = i\r\n",
    "\treturn idx - max_leng + 1, max_leng\r\n",
    "\r\n",
    "seq = input()\r\n",
    "idx, length = solve(seq)\r\n",
    "print(idx,length)"
   ],
   "outputs": [
    {
     "output_type": "stream",
     "name": "stdout",
     "text": [
      "4 20\n"
     ]
    }
   ],
   "metadata": {}
  },
  {
   "cell_type": "code",
   "execution_count": 19,
   "source": [
    "def solve(seq):\r\n",
    "\tn = len(seq)\r\n",
    "\tMax = [0] * n # A[i]로 끝나는 최장 부문자열 길이\r\n",
    "\tcurr_max = 0\r\n",
    "\ta = {}\r\n",
    "\ttemp = 0\r\n",
    "\tlast_renew=0\r\n",
    "\tfor i in range(n):\r\n",
    "\t\ttry:\r\n",
    "\t\t\ttemp = a[seq[i]]\r\n",
    "\t\texcept KeyError:\r\n",
    "\t\t\tcurr_max +=1\r\n",
    "\t\t\tMax[i] = curr_max\r\n",
    "\t\t\ta[seq[i]] = i\r\n",
    "\t\telse:\r\n",
    "\t\t\tif a[seq[i]] < last_renew:\r\n",
    "\t\t\t\tcurr_max += 1\r\n",
    "\t\t\telse:\r\n",
    "\t\t\t\tcurr_max = i - a[seq[i]]\r\n",
    "\t\t\tMax[i] = curr_max\r\n",
    "\t\t\ta[seq[i]] = i\r\n",
    "\t\t\tlast_renew = a[seq[i]]-1\r\n",
    "\tidx = 0\r\n",
    "\tmax_leng = 0\r\n",
    "\tfor i in range(n):\r\n",
    "\t\tif max_leng < Max[i]:\r\n",
    "\t\t\tmax_leng = Max[i]\r\n",
    "\t\t\tidx = i\r\n",
    "\treturn idx - max_leng + 1, max_leng\r\n",
    "\r\n",
    "seq = input()\r\n",
    "idx, length = solve(seq)\r\n",
    "print(idx,length)"
   ],
   "outputs": [
    {
     "output_type": "stream",
     "name": "stdout",
     "text": [
      "6 18\n"
     ]
    }
   ],
   "metadata": {}
  },
  {
   "cell_type": "code",
   "execution_count": null,
   "source": [
    "def solve_dict_KeyError(A,k):\r\n",
    "    B = {} # dict 생성\r\n",
    "    cnt = 0 # 합이 k가 되는 쌍의 개수\r\n",
    "    temp = 0 # 임시 저장 공간\r\n",
    "    for i in A: # 입력을 순회하며 O(n)\r\n",
    "        try: # key 'k-i' 가 존재하는지 확인\r\n",
    "            temp = B[k-i] # -> 존재하면 합이 k가 되는 순서쌍을 찾은 것 -> key error가 발생하지 않고 else로 이동\r\n",
    "        except KeyError: # 해당 key가 존재하지 않으면,\r\n",
    "            B[i]=k-i # key는 A[i], value는 k - A[i]로 dict 원소 추가\r\n",
    "        else:\r\n",
    "            cnt+=1 # 합이 k인 순서쌍을 찾았으므로 cnt+=1\r\n",
    "    return cnt # 합이 k 되는 쌍의 개수 return"
   ],
   "outputs": [],
   "metadata": {}
  },
  {
   "cell_type": "code",
   "execution_count": null,
   "source": [
    "# [최종 제출]\r\n",
    "# 최악의 경우 수행시간 O(n)의 알고리즘\r\n",
    "# n번 순회하며 A[i]마다 집합을 하나 생성하고\r\n",
    "# A[i]부터 다시 A[n-1]까지 순회하며 집합에 있는 원소(중복된 문자)가 나올때까지 반복\r\n",
    "# 이때 알파벳은 26개의 문자로 이루어져 있으므로\r\n",
    "# 내부 반복문은 최대 26번 돌고 break로 빠져 나온다.\r\n",
    "# 따라서 결국 상수번의 연산만 (최대 26번) 수행하게 되므로\r\n",
    "# O(n)의 알고리즘이 된다.\r\n",
    "\r\n",
    "def solve(seq):\r\n",
    "\tn = len(seq)\r\n",
    "\tlong = [0] * n\r\n",
    "\tfor i in range(n):\r\n",
    "\t\tS = set()\r\n",
    "\t\tfor j in range(i,n):\r\n",
    "\t\t\tif seq[j] not in S:\r\n",
    "\t\t\t\tS.add(seq[j])\r\n",
    "\t\t\t\tlong[i] +=1\r\n",
    "\t\t\telse: break\r\n",
    "\tidx = 0\r\n",
    "\tMax = long[0]\r\n",
    "\tfor i in range(1,n):\r\n",
    "\t\tif Max < long[i]:\r\n",
    "\t\t\tidx = i\r\n",
    "\t\t\tMax = long[i]\r\n",
    "\treturn idx, Max\r\n",
    "\r\n",
    "seq = input()\r\n",
    "idx, length = solve(seq)\r\n",
    "print(idx,length)"
   ],
   "outputs": [],
   "metadata": {}
  }
 ],
 "metadata": {
  "orig_nbformat": 4,
  "language_info": {
   "name": "python",
   "version": "3.8.10",
   "mimetype": "text/x-python",
   "codemirror_mode": {
    "name": "ipython",
    "version": 3
   },
   "pygments_lexer": "ipython3",
   "nbconvert_exporter": "python",
   "file_extension": ".py"
  },
  "kernelspec": {
   "name": "python3",
   "display_name": "Python 3.8.10 64-bit ('base': conda)"
  },
  "interpreter": {
   "hash": "a7401fdbc441e771371315dfd74d70672a7e5696f5857508b031491b5c8705db"
  }
 },
 "nbformat": 4,
 "nbformat_minor": 2
}