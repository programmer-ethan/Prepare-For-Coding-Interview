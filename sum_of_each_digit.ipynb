{
 "cells": [
  {
   "cell_type": "code",
   "execution_count": 4,
   "metadata": {},
   "outputs": [
    {
     "name": "stdout",
     "output_type": "stream",
     "text": [
      "1\n"
     ]
    }
   ],
   "source": [
    "#\n",
    "from itertools import combinations_with_replacement\n",
    "\n",
    "def solve(L, S):\n",
    "    dataset=[]\n",
    "    for i in range(L):\n",
    "        dataset.append(i)\n",
    "    return len(list(combinations_with_replacement(dataset, S-1)))\n",
    "    \n",
    "\n",
    "L, S = [int(x) for x in input().split()]\n",
    "print(solve(L, S)%2147483647)"
   ]
  },
  {
   "cell_type": "markdown",
   "metadata": {},
   "source": [
    "일단... DP로 점화식을 어떻게 새울지 생각해 봐야 할듯?\n",
    "L과 S의 경우의 수는 일단 1000 * 1000 100만 정도면 미리 만들어볼 만해\n",
    "혹은 1000개씩 만들면 꿀이고. 아!\n",
    "1000*1000 이차원 배열을 만들어야 할듯?\n",
    "노노 그럴 필요도 없을듯? \n",
    "양쪽 중 하나만 누적 DP가 만들어질 수도\n",
    "점화식 예를 들면 L[i] 혹은 S[i]를 다른 걸로부터 얻어낼 수 있는지 하나는 고정하고 각각을 계산 해보자.\n",
    "가장 쉬운 것은 1일 때.\n",
    "L, S 둘중 뭐로 먼저 할까?\n",
    "아무거나! 일단 L 자리수 3으로 고정하면\n",
    "S는 어차피 최대 999 ->27이다. 그러면 S까지 관계식이 있을까?\n",
    "S[1]=1, 2->3 S[3]"
   ]
  }
 ],
 "metadata": {
  "interpreter": {
   "hash": "a7401fdbc441e771371315dfd74d70672a7e5696f5857508b031491b5c8705db"
  },
  "kernelspec": {
   "display_name": "Python 3.8.10 64-bit ('base': conda)",
   "name": "python3"
  },
  "language_info": {
   "codemirror_mode": {
    "name": "ipython",
    "version": 3
   },
   "file_extension": ".py",
   "mimetype": "text/x-python",
   "name": "python",
   "nbconvert_exporter": "python",
   "pygments_lexer": "ipython3",
   "version": "3.8.10"
  },
  "orig_nbformat": 4
 },
 "nbformat": 4,
 "nbformat_minor": 2
}
