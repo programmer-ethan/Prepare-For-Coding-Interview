{
 "cells": [
  {
   "cell_type": "code",
   "execution_count": 6,
   "metadata": {},
   "outputs": [
    {
     "ename": "ValueError",
     "evalue": "too many values to unpack (expected 2)",
     "output_type": "error",
     "traceback": [
      "\u001b[1;31m---------------------------------------------------------------------------\u001b[0m",
      "\u001b[1;31mValueError\u001b[0m                                Traceback (most recent call last)",
      "\u001b[1;32m<ipython-input-6-89fa6c67ddea>\u001b[0m in \u001b[0;36m<module>\u001b[1;34m\u001b[0m\n\u001b[0;32m     39\u001b[0m     \u001b[1;32mreturn\u001b[0m \u001b[0mround\u001b[0m\u001b[1;33m(\u001b[0m\u001b[0mSS\u001b[0m\u001b[1;33m,\u001b[0m \u001b[1;36m3\u001b[0m\u001b[1;33m)\u001b[0m\u001b[1;33m\u001b[0m\u001b[1;33m\u001b[0m\u001b[0m\n\u001b[0;32m     40\u001b[0m \u001b[1;33m\u001b[0m\u001b[0m\n\u001b[1;32m---> 41\u001b[1;33m \u001b[0mB\u001b[0m\u001b[1;33m,\u001b[0m \u001b[0mn\u001b[0m \u001b[1;33m=\u001b[0m \u001b[0mmap\u001b[0m\u001b[1;33m(\u001b[0m\u001b[0mint\u001b[0m\u001b[1;33m,\u001b[0m \u001b[0minput\u001b[0m\u001b[1;33m(\u001b[0m\u001b[1;33m)\u001b[0m\u001b[1;33m.\u001b[0m\u001b[0msplit\u001b[0m\u001b[1;33m(\u001b[0m\u001b[1;33m)\u001b[0m\u001b[1;33m)\u001b[0m\u001b[1;33m\u001b[0m\u001b[1;33m\u001b[0m\u001b[0m\n\u001b[0m\u001b[0;32m     42\u001b[0m \u001b[0mF\u001b[0m \u001b[1;33m=\u001b[0m \u001b[1;33m[\u001b[0m\u001b[0mint\u001b[0m\u001b[1;33m(\u001b[0m\u001b[0minput\u001b[0m\u001b[1;33m(\u001b[0m\u001b[1;33m)\u001b[0m\u001b[1;33m)\u001b[0m \u001b[1;32mfor\u001b[0m \u001b[0m_\u001b[0m \u001b[1;32min\u001b[0m \u001b[0mrange\u001b[0m\u001b[1;33m(\u001b[0m\u001b[0mn\u001b[0m\u001b[1;33m)\u001b[0m\u001b[1;33m]\u001b[0m\u001b[1;33m\u001b[0m\u001b[1;33m\u001b[0m\u001b[0m\n\u001b[0;32m     43\u001b[0m \u001b[1;32mif\u001b[0m \u001b[0mB\u001b[0m \u001b[1;33m>=\u001b[0m \u001b[0mn\u001b[0m\u001b[1;33m:\u001b[0m \u001b[0mprint\u001b[0m\u001b[1;33m(\u001b[0m\u001b[1;36m0\u001b[0m\u001b[1;33m)\u001b[0m\u001b[1;33m\u001b[0m\u001b[1;33m\u001b[0m\u001b[0m\n",
      "\u001b[1;31mValueError\u001b[0m: too many values to unpack (expected 2)"
     ]
    }
   ],
   "source": [
    "def solve(B,n,F):\n",
    "    # 차이가 가장 적은 것들 부터 합친다.\n",
    "    # 차이를 나타내는 리스트\n",
    "    # 저장되는 원소.  0.이전그룹원의 개수  1.그룹원의 개수  2.그룹원의 합  3.그룹 평균  4.다음그룹과의 차이\n",
    "    # 초기화 0: 1   1:1  2:F[i]  3:F[i]  4:abs(F[i+1] - F[i])\n",
    "    differences = [[1, 1, F[i], F[i], abs(F[i+1] - F[i])] for i in range(n - 1)] # 0 ~ n-2 생성 \n",
    "    print(\"differences:\", differences)\n",
    "    differences.append([1, 1, F[n - 1], F[n - 1], 0]) # differences[n-1]은 다음그룹과의 차이 사용 X\n",
    "    for _ in range(n-B): # B 개의 그룹을 생성한다. n-b개를 옆평균과 차이가 적은 순서대로 병합시킨다.\n",
    "        # 다음그룹과의 차이의 최솟값 뽑기\n",
    "        Min_diff = max(F)\n",
    "        Min_idx = 0\n",
    "        idx = 0\n",
    "        while idx < n - 1:\n",
    "            if Min_diff > differences[idx][4]:\n",
    "                Min_diff = differences[idx][4]\n",
    "                Min_idx = idx\n",
    "            idx += differences[idx][1]\n",
    "        # 그룹 합치기\n",
    "        before_group_num = differences[Min_idx][1]\n",
    "        differences[Min_idx][1] += differences[Min_idx + before_group_num][1] # 그룹원 더하기\n",
    "        differences[Min_idx][2] += differences[Min_idx + before_group_num][2] # 합끼리 더하기\n",
    "        print(\"Min_idx:\", Min_idx)\n",
    "        # print(\"Min_idx + differences[Min_idx][1]:\", Min_idx + differences[Min_idx][1])\n",
    "        differences[Min_idx][3] = differences[Min_idx][2] / differences[Min_idx][1] # 새 평균 구하기\n",
    "        differences[Min_idx][4] = abs(differences[Min_idx + before_group_num][3] - differences[Min_idx][3])\n",
    "        # 이전 그룹의 다음 그룹과의 차이 갱신: 첫 수의 경우 제외...\n",
    "        if Min_idx != 0:\n",
    "            differences[Min_idx - differences[Min_idx][0]][4] = abs(differences[Min_idx - differences[Min_idx][0]][3] - differences[Min_idx][3])\n",
    "        # 다음 그룹에 이전 그룹원 개수 갱신\n",
    "        differences[Min_idx + before_group_num][0] = differences[Min_idx][1]     \n",
    "    # 편차 제곱 합 구하기\n",
    "    i = 0\n",
    "    SS = 0\n",
    "    while i < n: # \n",
    "        for _ in range(differences[i][1]):\n",
    "            SS += (differences[i][3] - F[i]) ** 2\n",
    "            i += 1\n",
    "    return round(SS, 3)\n",
    "\n",
    "B, n = map(int, input().split())\n",
    "F = [int(input()) for _ in range(n)]\n",
    "if B >= n: print(0)\n",
    "else:\n",
    "    print(solve(B,n,F))\n",
    "\n"
   ]
  },
  {
   "cell_type": "code",
   "execution_count": 1,
   "metadata": {},
   "outputs": [
    {
     "ename": "TypeError",
     "evalue": "can only concatenate list (not \"int\") to list",
     "output_type": "error",
     "traceback": [
      "\u001b[1;31m---------------------------------------------------------------------------\u001b[0m",
      "\u001b[1;31mTypeError\u001b[0m                                 Traceback (most recent call last)",
      "\u001b[1;32m<ipython-input-1-9c5818018c4e>\u001b[0m in \u001b[0;36m<module>\u001b[1;34m\u001b[0m\n\u001b[0;32m      1\u001b[0m \u001b[0mA\u001b[0m \u001b[1;33m=\u001b[0m \u001b[1;33m[\u001b[0m\u001b[1;36m1\u001b[0m\u001b[1;33m,\u001b[0m\u001b[1;36m2\u001b[0m\u001b[1;33m,\u001b[0m\u001b[1;36m3\u001b[0m\u001b[1;33m]\u001b[0m\u001b[1;33m\u001b[0m\u001b[1;33m\u001b[0m\u001b[0m\n\u001b[1;32m----> 2\u001b[1;33m \u001b[0mprint\u001b[0m\u001b[1;33m(\u001b[0m\u001b[0mA\u001b[0m \u001b[1;33m+\u001b[0m \u001b[1;36m1\u001b[0m\u001b[1;33m)\u001b[0m\u001b[1;33m\u001b[0m\u001b[1;33m\u001b[0m\u001b[0m\n\u001b[0m",
      "\u001b[1;31mTypeError\u001b[0m: can only concatenate list (not \"int\") to list"
     ]
    }
   ],
   "source": [
    "A = [1,2,3]\n",
    "print(A + 1)"
   ]
  },
  {
   "cell_type": "code",
   "execution_count": null,
   "metadata": {},
   "outputs": [],
   "source": []
  }
 ],
 "metadata": {
  "interpreter": {
   "hash": "a7401fdbc441e771371315dfd74d70672a7e5696f5857508b031491b5c8705db"
  },
  "kernelspec": {
   "display_name": "Python 3.8.10 64-bit ('base': conda)",
   "language": "python",
   "name": "python3"
  },
  "language_info": {
   "codemirror_mode": {
    "name": "ipython",
    "version": 3
   },
   "file_extension": ".py",
   "mimetype": "text/x-python",
   "name": "python",
   "nbconvert_exporter": "python",
   "pygments_lexer": "ipython3",
   "version": "3.8.10"
  },
  "orig_nbformat": 4
 },
 "nbformat": 4,
 "nbformat_minor": 2
}
