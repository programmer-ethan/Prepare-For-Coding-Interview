{
 "cells": [
  {
   "cell_type": "code",
   "execution_count": 5,
   "metadata": {},
   "outputs": [
    {
     "name": "stdout",
     "output_type": "stream",
     "text": [
      "[[1 3 5]\n",
      " [2 4 6]]\n"
     ]
    }
   ],
   "source": [
    "# 시간 단축을 위한 numpy 시도 버전\n",
    "import numpy as np\n",
    "def solve(A,n,l,k):\n",
    "    array = np.transpose(np.array(A))\n",
    "    adder1 = np.ones((1, n)) / 2\n",
    "    adder2 = np.zeros((1, n))\n",
    "    adder = np.vstack([adder1, adder2])\n",
    "\n",
    "    stack = []\n",
    "    cnt = 0\n",
    "    while cnt < k:\n",
    "        for i in range(n):\n",
    "            array = array + adder\n",
    "\n",
    "n, l, k = map(int, input().split())\n",
    "A = []\n",
    "for _ in range(n):\n",
    "    loc, Id = map(int, input().split())\n",
    "    A.append([loc,Id])\n",
    "solve(A,n,l,k)"
   ]
  },
  {
   "cell_type": "code",
   "execution_count": 6,
   "metadata": {},
   "outputs": [
    {
     "name": "stdout",
     "output_type": "stream",
     "text": [
      "[[0.5 0. ]\n",
      " [0.5 0. ]\n",
      " [0.5 0. ]\n",
      " [0.5 0. ]\n",
      " [0.5 0. ]]\n"
     ]
    }
   ],
   "source": [
    "import numpy as np\n",
    "a = np.ones((1, 5)) / 2\n",
    "b = np.zeros((1, 5))\n",
    "print(np.transpose(np.vstack([a, b])))"
   ]
  },
  {
   "cell_type": "code",
   "execution_count": 12,
   "metadata": {},
   "outputs": [
    {
     "name": "stdout",
     "output_type": "stream",
     "text": [
      "fail\n"
     ]
    }
   ],
   "source": [
    "import copy\n",
    "import math\n",
    "def solve(A,n,l,k):# A[i][0]은 loc, [1]은 Id\n",
    "    B = copy.deepcopy(A)\n",
    "    stack = []\n",
    "    cnt = 0\n",
    "    while cnt < k: # 0.5초씩 이동시키며 점검\n",
    "        last = math.inf\n",
    "        for i in range(n):\n",
    "            if B[i][0] <= 0 or B[i][0] >= l:\n",
    "                continue\n",
    "            if B[i][1] > 0: # 이동\n",
    "                B[i][0] += 0.5\n",
    "            else:\n",
    "                B[i][0] -= 0.5\n",
    "            if B[i][0] <= 0 or B[i][0] >= l: # 탈출\n",
    "                cnt+=1\n",
    "                stack.append(i)\n",
    "            elif last == B[i][0]: # 충돌 시\n",
    "                B[i][1] *= -1\n",
    "                B[i-1][1] *= -1\n",
    "            last = B[i][0]\n",
    "    if cnt == k:\n",
    "        return A[stack.pop()][1]\n",
    "    elif cnt == k + 1:\n",
    "        a = A[stack.pop()][1]\n",
    "        b = A[stack.pop()][1]\n",
    "        if abs(a) < abs(b):\n",
    "            return a\n",
    "        else:\n",
    "            return b\n",
    "    else:\n",
    "        return \"fail\"\n",
    "n, l, k = map(int, input().split())\n",
    "A = []\n",
    "for _ in range(n):\n",
    "    loc, Id = map(int, input().split())\n",
    "    A.append([loc,Id])\n",
    "A.sort(key = lambda x: x[0])\n",
    "print(solve(A,n,l,k))"
   ]
  },
  {
   "cell_type": "code",
   "execution_count": null,
   "metadata": {},
   "outputs": [],
   "source": [
    "import copy\n",
    "import math\n",
    "def solve(A,n,l,k):# A[i][0]은 loc, [1]은 Id\n",
    "    B = copy.deepcopy(A)\n",
    "    stack = []\n",
    "    cnt = 0\n",
    "    while cnt < k: # 0.5초씩 이동시키며 점검\n",
    "        last = math.inf\n",
    "        coincidence = 0\n",
    "        for i in range(n):\n",
    "            if B[i][0] <= 0 or B[i][0] >= l:\n",
    "                continue\n",
    "            if B[i][1] > 0: # 이동\n",
    "                B[i][0] += 0.5\n",
    "            else:\n",
    "                B[i][0] -= 0.5\n",
    "            if B[i][0] <= 0 or B[i][0] >= l: # 탈출\n",
    "                cnt += 1\n",
    "                coincidence += 1\n",
    "                stack.append(i)\n",
    "            elif last == B[i][0]: # 충돌 시\n",
    "                B[i][1] *= -1\n",
    "                B[i-1][1] *= -1\n",
    "            last = B[i][0]\n",
    "    if coincidence < 2:\n",
    "        return A[stack.pop()][1]\n",
    "    else:\n",
    "        a = A[stack.pop()][1]\n",
    "        b = A[stack.pop()][1]\n",
    "        if cnt == k + 1:\n",
    "            return min(a,b)\n",
    "        else: # cnt == k\n",
    "            return max(a,b)\n",
    "n, l, k = map(int, input().split())\n",
    "A = []\n",
    "for _ in range(n):\n",
    "    loc, Id = map(int, input().split())\n",
    "    A.append([loc,Id])\n",
    "A.sort(key = lambda x: x[0])\n",
    "print(solve(A,n,l,k))"
   ]
  },
  {
   "cell_type": "code",
   "execution_count": 8,
   "metadata": {},
   "outputs": [
    {
     "name": "stdout",
     "output_type": "stream",
     "text": [
      "[[1, -1], [3, -3], [5, -2]]\n"
     ]
    }
   ],
   "source": [
    "A = [[1,-1],[5,-2],[3,-3]]\n",
    "A.sort(key = lambda x: x[0])\n",
    "print(A)"
   ]
  },
  {
   "cell_type": "code",
   "execution_count": 10,
   "metadata": {},
   "outputs": [
    {
     "data": {
      "text/plain": [
       "2"
      ]
     },
     "execution_count": 10,
     "metadata": {},
     "output_type": "execute_result"
    }
   ],
   "source": [
    "a = [3,1,2]\n",
    "a.pop()"
   ]
  }
 ],
 "metadata": {
  "interpreter": {
   "hash": "a7401fdbc441e771371315dfd74d70672a7e5696f5857508b031491b5c8705db"
  },
  "kernelspec": {
   "display_name": "Python 3.8.10 64-bit ('base': conda)",
   "name": "python3"
  },
  "language_info": {
   "codemirror_mode": {
    "name": "ipython",
    "version": 3
   },
   "file_extension": ".py",
   "mimetype": "text/x-python",
   "name": "python",
   "nbconvert_exporter": "python",
   "pygments_lexer": "ipython3",
   "version": "3.8.10"
  },
  "orig_nbformat": 4
 },
 "nbformat": 4,
 "nbformat_minor": 2
}
