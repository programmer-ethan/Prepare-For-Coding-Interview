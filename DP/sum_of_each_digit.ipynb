{
 "cells": [
  {
   "cell_type": "markdown",
   "metadata": {},
   "source": [
    "일단... DP로 점화식을 어떻게 새울지 생각해 봐야 할듯?\n",
    "L과 S의 경우의 수는 일단 1000 * 1000 100만 정도면 미리 만들어볼 만해\n",
    "혹은 1000개씩 만들면 꿀이고. 아!\n",
    "1000*1000 이차원 배열을 만들어야 할듯?\n",
    "노노 그럴 필요도 없을듯? \n",
    "양쪽 중 하나만 누적 DP가 만들어질 수도\n",
    "점화식 예를 들면 L[i] 혹은 S[i]를 다른 걸로부터 얻어낼 수 있는지 하나는 고정하고 각각을 계산 해보자.\n",
    "가장 쉬운 것은 1일 때.\n",
    "L, S 둘중 뭐로 먼저 할까?\n",
    "아무거나! 일단 L 자리수 3으로 고정하면\n",
    "S는 어차피 최대 999 ->27이다. 그러면 S까지 관계식이 있을까?\n",
    "S[1]=1, 2->3 S[3]"
   ]
  },
  {
   "cell_type": "code",
   "execution_count": 4,
   "metadata": {},
   "outputs": [
    {
     "name": "stdout",
     "output_type": "stream",
     "text": [
      "1\n"
     ]
    }
   ],
   "source": [
    "#\n",
    "from itertools import combinations_with_replacement\n",
    "\n",
    "def solve(L, S):\n",
    "    dataset=[]\n",
    "    for i in range(L):\n",
    "        dataset.append(i)\n",
    "    return len(list(combinations_with_replacement(dataset, S-1)))\n",
    "    \n",
    "\n",
    "L, S = [int(x) for x in input().split()]\n",
    "print(solve(L, S)%2147483647)"
   ]
  },
  {
   "cell_type": "code",
   "execution_count": 4,
   "metadata": {},
   "outputs": [
    {
     "name": "stdout",
     "output_type": "stream",
     "text": [
      "1\n"
     ]
    }
   ],
   "source": [
    "import math\n",
    "from itertools import combinations_with_replacement\n",
    "\n",
    "def solve(L, S):\n",
    "    son = math.factorial(L + S - 2)\n",
    "    mom = math.factorial(S -1) * math.factorial(L - 1)\n",
    "    return son // mom\n",
    "    \n",
    "\n",
    "L, S = [int(x) for x in input().split()]\n",
    "print(solve(L, S)%2147483647)"
   ]
  },
  {
   "cell_type": "code",
   "execution_count": null,
   "metadata": {},
   "outputs": [],
   "source": [
    "import sys\n",
    "L, S = map(int, sys.stdin.readline().split())\n",
    "DP = [[0]*(S+1) for i in range(L+1)]\n",
    "\n",
    "for i in range(1,L+1):\n",
    "    for j in range(1,S+1):\n",
    "\n",
    "        for k in range(9):\n",
    "            if j-k<1:\n",
    "                break\n",
    "            else:\n",
    "                DP[i][j] +=DP[i-1][j-k]\n",
    "\n"
   ]
  },
  {
   "cell_type": "code",
   "execution_count": null,
   "metadata": {},
   "outputs": [],
   "source": [
    "#안의 반복문은 최대 10번 상수번 반복하므로 수행시간에 영향을 끼치지 않고\n",
    "#L 반복 내에서 S만큼 다시 반복하므로\n",
    "#최악의 경우 O(LS)\n",
    "#2차원 DP\n",
    "#DP[i][j]는 i개의 자릿수를 가지고 j의 합을 갖는 경우의 수\n",
    "#따라서 최종 DP[L][S]가 원하는 출력\n",
    "# 점화식: DP[i][j]는 DP[i-1] 행에서 [j-9]~[j]를 더한 경우가 된다.[j-k가 1보다 크거나 같은 것만 더한다.]\n",
    "# 왜냐하면 해당 추가된 자릿수의 숫자가 0~9일때 를 더해준 것.\n",
    "\n",
    "def solve(L, S):\n",
    "    DP = [[0]*(S+1) for i in range(L+1)]\n",
    "    for i in range(1,min(10,S+1)):\n",
    "        DP[1][i]=1\n",
    "\n",
    "    for i in range(2,L+1):\n",
    "        for j in range(1,S+1):\n",
    "            for k in range(10):\n",
    "                if j-k<1:\n",
    "                    break\n",
    "                else:\n",
    "                    DP[i][j] +=DP[i-1][j-k]\n",
    "    return DP[L][S]\n",
    "\n",
    "\n",
    "L, S = [int(x) for x in input().split()]\n",
    "print(solve(L, S)%2147483647)"
   ]
  }
 ],
 "metadata": {
  "interpreter": {
   "hash": "a7401fdbc441e771371315dfd74d70672a7e5696f5857508b031491b5c8705db"
  },
  "kernelspec": {
   "display_name": "Python 3.8.10 64-bit ('base': conda)",
   "name": "python3"
  },
  "language_info": {
   "codemirror_mode": {
    "name": "ipython",
    "version": 3
   },
   "file_extension": ".py",
   "mimetype": "text/x-python",
   "name": "python",
   "nbconvert_exporter": "python",
   "pygments_lexer": "ipython3",
   "version": "3.8.10"
  },
  "orig_nbformat": 4
 },
 "nbformat": 4,
 "nbformat_minor": 2
}
