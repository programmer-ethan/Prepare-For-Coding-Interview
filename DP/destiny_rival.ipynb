{
 "cells": [
  {
   "cell_type": "code",
   "execution_count": null,
   "metadata": {},
   "outputs": [],
   "source": [
    "def solve(kor, jpn, k_goals, j_goals):\n",
    "\t# kor[1] ... kor[n], jpn[1] ... jpn[n]\n",
    "\tn = len(kor) - 1\n",
    "\n",
    "\tdp = [[0 for _ in range(n+1)] for _ in range(n+1)]\n",
    "\t# dp[i][j] = kor[1]...kor[i]와 jpn[1]...jpn[j]에 대한 최대 가능 골 수로 정의\n",
    "\t# dp[n][n]이 우리가 원하는 답\n",
    "\tfor i in range(1, n+1):\n",
    "\t\tfor j in range(1, n+1):\n",
    "\t\t\t# dp[i][j] = 4가지 경우(first, second, third, fourth)가 가능\n",
    "\t\t\t#            그 중에서 최대 골 수를 계산\n",
    "\t\t\t# kor[i]와 jpn[j]가 짝을 맺는 경우와 둘 다 고려에서 제외되는 경우\n",
    "\t\t\t# kor[i]와 jpn[j] 중 하나만 고려에서 제외되는 경우\n",
    "\t\t\t# first, second, third, fouth를 계산해보자\n",
    "\t\t\tdp[i][j] = max(first, second, third, fouth)\n",
    "\n",
    "\treturn dp[n][n]\n",
    "\n",
    "# kor = 한국의 W와 L의 문자열, jpn = 일본의 W와 L의 문자열 (주의: kor[1], jpn[1]부터 시작)\n",
    "kor = ' '+input()\n",
    "k_goals = [0] + [int(x) for x in input().split()]\n",
    "jpn = ' '+input()\n",
    "j_goals = [0] + [int(x) for x in input().split()]\n",
    "print(solve(kor, jpn, k_goals, j_goals))"
   ]
  },
  {
   "cell_type": "code",
   "execution_count": null,
   "metadata": {},
   "outputs": [],
   "source": [
    "def solve(kor, jpn, k_goals, j_goals):\n",
    "\t# kor[1] ... kor[n], jpn[1] ... jpn[n]\n",
    "\tn = len(kor) - 1\n",
    "\tdp = [[0 for _ in range(n+1)] for _ in range(n+1)]\n",
    "\t# dp[i][j] = kor[1]...kor[i]와 jpn[1]...jpn[j]에 대한 최대 가능 골 수로 정의\n",
    "\t# dp[n][n]이 우리가 원하는 답\n",
    "\tfor i in range(1, n+1):\n",
    "\t\tfor j in range(1, n+1):\n",
    "\t\t\t# dp[i][j] = 4가지 경우(first, second, third, fourth)가 가능\n",
    "\t\t\t#            그 중에서 최대 골 수를 계산\n",
    "\t\t\t# kor[i]와 jpn[j]가 짝을 맺는 경우와 둘 다 고려에서 제외되는 경우\n",
    "\t\t\tfirst = dp[i-1][j-1]\n",
    "\t\t\tsecond = first\n",
    "\t\t\tif (kor[i] == 'W' and jpn[j] == 'L' and k_goals[i] > j_goals[j]) or (kor[i] == 'L' and jpn[j] == 'W' and k_goals[i] < j_goals[j]):\n",
    "\t\t\t\tsecond += k_goals[i] + j_goals[j]\n",
    "\t\t\t# kor[i]와 jpn[j] 중 하나만 고려에서 제외되는 경우\n",
    "\t\t\tthird = dp[i][j-1]\n",
    "\t\t\tfourth = dp[i-1][j]\n",
    "\t\t\t# first, second, third, fouth를 계산해보자\n",
    "\t\t\tdp[i][j] = max(first, second, third, fourth)\n",
    "\treturn dp[n][n]\n",
    "\n",
    "# kor = 한국의 W와 L의 문자열, jpn = 일본의 W와 L의 문자열 (주의: kor[1], jpn[1]부터 시작)\n",
    "kor = ' '+input()\n",
    "k_goals = [0] + [int(x) for x in input().split()]\n",
    "jpn = ' '+input()\n",
    "j_goals = [0] + [int(x) for x in input().split()]\n",
    "print(solve(kor, jpn, k_goals, j_goals))"
   ]
  }
 ],
 "metadata": {
  "language_info": {
   "name": "python"
  },
  "orig_nbformat": 4
 },
 "nbformat": 4,
 "nbformat_minor": 2
}
