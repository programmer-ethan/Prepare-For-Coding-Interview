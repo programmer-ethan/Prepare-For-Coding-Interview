{
 "cells": [
  {
   "cell_type": "code",
   "execution_count": null,
   "source": [
    "# [제출]\r\n",
    "# 최악의 경우 O(n) : n개의 원소로 이루어진 리스트 순회\r\n",
    "# DP로 A[i]로 끝나는 최대값을 구현하면, O(n)으로 가능\r\n",
    "# DP table에 저장된 이전 값을 활용하여 n번의 순회 만으로 최대구간합을 구할 수 있기 때문\r\n",
    "# 공간복잡도도 O(n): n개의 원소를 갖는 리스트 2개 (DP를 위한 리스트 1개)\r\n",
    "def max_interval_DP(A):\r\n",
    "    n=len(A)\r\n",
    "    S=[0]*n # S[i] 는 A[i]로 끝나는 최댓값\r\n",
    "    S[0]=A[0] # 초깃값\r\n",
    "    for k in range(1,n): #O(n)\r\n",
    "        S[k]=max(S[k-1]+A[k],A[k]) # '이전값(A[k-1])으로 끝나는 최대값+A[k]'와 'A[k]' 두 수를 비교하여 더 큰 값을 S[k]에 저장 -> 상수연산\r\n",
    "    return max(S) # S 중 최댓값을 return! O(n)\r\n",
    "\r\n",
    "A = [int(x) for x in input().split()]\r\n",
    "print(max_interval_DP(A))"
   ],
   "outputs": [],
   "metadata": {}
  }
 ],
 "metadata": {
  "orig_nbformat": 4,
  "language_info": {
   "name": "python"
  }
 },
 "nbformat": 4,
 "nbformat_minor": 2
}