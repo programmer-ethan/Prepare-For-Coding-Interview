{
 "cells": [
  {
   "cell_type": "code",
   "execution_count": 6,
   "metadata": {},
   "outputs": [
    {
     "name": "stdout",
     "output_type": "stream",
     "text": [
      "<class 'int'>\n",
      "2\n"
     ]
    }
   ],
   "source": [
    "def solve(A):\n",
    "\tn = len(A)\n",
    "\tcount=0\n",
    "\tmean = round(sum(A) / n)\n",
    "\tprint(type(mean))\n",
    "\tfor i in range(1,n):\n",
    "\t\tif A[i] < A[i-1]:\n",
    "\t\t\tcount += abs(A[i-1] - mean)\n",
    "\tif A[n-1] < A[n-2]:\n",
    "\t\tcount+= abs(A[n-1] - mean)\n",
    "\treturn count\n",
    "\n",
    "A = [int(x) for x in input().split()]\n",
    "print(solve(A))"
   ]
  },
  {
   "cell_type": "code",
   "execution_count": 3,
   "metadata": {},
   "outputs": [
    {
     "ename": "IndentationError",
     "evalue": "unindent does not match any outer indentation level (<tokenize>, line 5)",
     "output_type": "error",
     "traceback": [
      "\u001b[1;36m  File \u001b[1;32m\"<tokenize>\"\u001b[1;36m, line \u001b[1;32m5\u001b[0m\n\u001b[1;33m    print(mean)\u001b[0m\n\u001b[1;37m    ^\u001b[0m\n\u001b[1;31mIndentationError\u001b[0m\u001b[1;31m:\u001b[0m unindent does not match any outer indentation level\n"
     ]
    }
   ],
   "source": [
    "def solve(A):\n",
    "\tn = len(A)\n",
    "\tcount=0\n",
    "\tmean = sum(A) / n\n",
    "\tround_mean = round(sum(A) / n)\n",
    "\tfor i in range(1,n):\n",
    "\t\tif A[i] < A[i-1]:\n",
    "\t\t\tcount += abs(A[i-1] - mean)\n",
    "\tif A[n-1] < A[n-2]:\n",
    "\t\tcount+= abs(A[n-1] - mean)\n",
    "\treturn count\n",
    "\n",
    "A = [int(x) for x in input().split()]\n",
    "print(solve(A))"
   ]
  },
  {
   "cell_type": "code",
   "execution_count": 7,
   "metadata": {},
   "outputs": [
    {
     "name": "stdout",
     "output_type": "stream",
     "text": [
      "<class 'bool'>\n"
     ]
    }
   ],
   "source": [
    "virgine=True\n",
    "print(type(virgine))"
   ]
  },
  {
   "cell_type": "code",
   "execution_count": null,
   "metadata": {},
   "outputs": [],
   "source": [
    "import copy\n",
    "def solve(A):\n",
    "\tn = len(A)\n",
    "\tcount=0\n",
    "\tmean = sum(A) / n\n",
    "\tround_mean = round(sum(A) / n)\n",
    "\tvirgine=True\n",
    "\tB=copy.deepcopy(A)\n",
    "\tfor i in range(n-1,-1,-1):\n",
    "\t\tif mean > B[i]:\n",
    "\t\t\tto=i\n",
    "\t\t\tbreak\n",
    "\tfor i in range(to+1):\n",
    "\t\tif virgine== False:\n",
    "\t\t\tB[i] = round_mean\n",
    "\t\telif to == i:\n",
    "\t\t\treturn 0\n",
    "\t\telif mean < B[i]:\n",
    "\t\t\tB[i] = round_mean\n",
    "\t\t\tvirgine=False\n",
    "\tcount=0\n",
    "\tfor i in range(n):\n",
    "\t\tcount+=abs(A[i]-B[i])\n",
    "\treturn count\n",
    "\n",
    "A = [int(x) for x in input().split()]\n",
    "print(solve(A))"
   ]
  },
  {
   "cell_type": "code",
   "execution_count": 16,
   "metadata": {},
   "outputs": [
    {
     "name": "stdout",
     "output_type": "stream",
     "text": [
      "1 5 0\n",
      "min_count = count\n",
      "2 5 0\n",
      "min_count = count\n",
      "2 4 0\n",
      "min_count = count\n",
      "3 5 0\n",
      "min_count = count\n",
      "3 4 0\n",
      "min_count = count\n",
      "4 5 0\n",
      "min_count = count\n",
      "4 4 0\n",
      "min_count = count\n",
      "4 3 0\n",
      "min_count = count\n",
      "6\n"
     ]
    }
   ],
   "source": [
    "import math\n",
    "def solve(A):\n",
    "\tn=len(A)\n",
    "\tMax=0\n",
    "\tmax_idx=0\n",
    "\tMin= math.inf\n",
    "\tB = [0]*n\n",
    "\tmin_count=math.inf\n",
    "\tres = 0\n",
    "\tfor i in range(n):\n",
    "\t\tif A[i] >=Max:\n",
    "\t\t\tMax = A[i]\n",
    "\t\t\tmax_idx=i\n",
    "\t\t\tif min_count != math.inf:\n",
    "\t\t\t\tres+=min_count\n",
    "\t\t\tmin_count=math.inf\n",
    "\t\telse:\n",
    "\t\t\tmin_count=math.inf\n",
    "\t\t\tfor j in range(Max, 0, -1): # i에서 뒤로 이동하며 j로 맞춰 줬을 때 연산 횟수\n",
    "\t\t\t\tcount=0\n",
    "\t\t\t\tfor k in range(i,-1,-1): # k는 뒤로 이동 max를 넘어 j를 만날 때까지\n",
    "\t\t\t\t\tif max_idx >= k and j==A[k]:\n",
    "\t\t\t\t\t\tbreak\n",
    "\t\t\t\t\telse:\n",
    "\t\t\t\t\t\tcount+=abs(j - A[k])\n",
    "\t\t\t\tif min_count > count:\n",
    "\t\t\t\t\tmin_count = count\n",
    "\t\t\t\t\tprint(i,j,k)\n",
    "\t\t\t\t\tprint(\"min_count = count\")\n",
    "\t\t\t\telse: break\n",
    "\tif min_count != math.inf:\n",
    "\t\tres+=min_count\n",
    "\treturn res\n",
    "\n",
    "\n",
    "A = [int(x) for x in input().split()]\n",
    "print(solve(A))"
   ]
  },
  {
   "cell_type": "code",
   "execution_count": 5,
   "metadata": {},
   "outputs": [
    {
     "name": "stdout",
     "output_type": "stream",
     "text": [
      "8\n"
     ]
    }
   ],
   "source": [
    "import math\n",
    "def solve(A):\n",
    "    n=len(A)\n",
    "    M =max(A)\n",
    "    DP=[[math.inf]*(M+1) for i in range(n)]\n",
    "    for k in range(1,M+1):\n",
    "        DP[0][k] = abs(A[0]-k)\n",
    "    for i in range(1,n):\n",
    "        for k in range(1,M+1):\n",
    "            for j in range(1,k+1):\n",
    "                DP[i][k] = min(DP[i][k],DP[i-1][j]+abs(A[i]-k))\n",
    "    return min(DP[n-1])\n",
    "\n",
    "A = [int(x) for x in input().split()]\n",
    "print(solve(A))"
   ]
  },
  {
   "cell_type": "code",
   "execution_count": null,
   "metadata": {},
   "outputs": [],
   "source": []
  }
 ],
 "metadata": {
  "interpreter": {
   "hash": "a7401fdbc441e771371315dfd74d70672a7e5696f5857508b031491b5c8705db"
  },
  "kernelspec": {
   "display_name": "Python 3.8.10 64-bit ('base': conda)",
   "name": "python3"
  },
  "language_info": {
   "codemirror_mode": {
    "name": "ipython",
    "version": 3
   },
   "file_extension": ".py",
   "mimetype": "text/x-python",
   "name": "python",
   "nbconvert_exporter": "python",
   "pygments_lexer": "ipython3",
   "version": "3.8.10"
  },
  "orig_nbformat": 4
 },
 "nbformat": 4,
 "nbformat_minor": 2
}
