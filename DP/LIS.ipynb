{
 "cells": [
  {
   "cell_type": "code",
   "execution_count": null,
   "metadata": {},
   "outputs": [],
   "source": [
    "#n^2\n",
    "def LIS_DP(seq):\n",
    "\tn=len(seq)\n",
    "\t# x=[0]*n\n",
    "\tDP=[1]*n\n",
    "\tfor k in range(1,n):\n",
    "\t\tfor j in range(k):\n",
    "\t\t\tif seq[j]<seq[k]:\n",
    "\t\t\t\tDP[k]=max(DP[k],DP[j]+1)\n",
    "\tfor k in range(n):\n",
    "\t\treturn max(DP)\n",
    "    # code here\n",
    "\n",
    "seq = input()  # 알파벳 소문자로만 구성된 string 하나가 입력된다\n",
    "# lis, x = LIS_DP(seq)\n",
    "lis = LIS_DP(seq)\n",
    "print(lis)\n",
    "# print_IS(seq, x)\n",
    "\n",
    "#O(n^2)의 코드입니다. 이중for문.\n",
    "#점화식은 DP는 DP[k]로 끝나는 가장 긴 부문자열의 개수를 저장하고 DP[k]=max(DP[k],DP[j]+1) (j=0,1,2,...,k-1)\n",
    "#모든 k에 대해- DP 테이블을 완성하기 위한. 반복문\n",
    "#0~k-1을 도는 j로 DP를 갱신하며 최댓 값으로 바꿔주고\n",
    "#구한 DP테이블을 돌며 가장 큰 값이 가장 긴 LIS입니다.\n",
    "#공간복잡도는 n입니다."
   ]
  },
  {
   "cell_type": "code",
   "execution_count": null,
   "metadata": {},
   "outputs": [],
   "source": [
    "# DP[i]는 seq[i]로 끝나는 가장 긴 부문자열의 개수\n",
    "# 점화식: DP[i] = (seq[j]<seq[i]인 j=0,1,2,...,i-1에 대해서) max(DP[i],DP[j] + 1)\n",
    "# 따라서 수행시간: O(n^2)\n",
    "# seq[j]<seq[i], 즉 오름차순이 성립하는 부분 수열에 대해서, 이전에 DP 값 중 최대를 고르면\n",
    "# seq[i]로 끝나는 가장 긴 부문자열의 개수가 된다.\n",
    "def LIS_DP(seq):\n",
    "    n = len(seq)\n",
    "    DP = [1] * n # 자기자신으로 이루어진 부문자열, 최솟값 1로 초기화\n",
    "    for i in range(1,n):\n",
    "        for j in range(i):\n",
    "            if seq[j]<seq[i]:\n",
    "                DP[i] = max(DP[i],DP[j] + 1)\n",
    "    return max(DP)\n",
    "\n",
    "seq = input()  # 알파벳 소문자로만 구성된 string 하나가 입력된다\n",
    "print(LIS_DP(seq))"
   ]
  },
  {
   "cell_type": "code",
   "execution_count": 10,
   "metadata": {},
   "outputs": [
    {
     "name": "stdout",
     "output_type": "stream",
     "text": [
      "3\n"
     ]
    }
   ],
   "source": [
    "# 수행시간은 O(nlogn)이다.\n",
    "# seq를 순회하며(n) 최악의 경우 이진탐색을 통해 logn의 연산을 수행해야 하기 때문이다.\n",
    "# DP의 정의는 DP[k]는 k개의 부문자열로 이루어진 최소 알파벳(사전상 가장 앞에 있는 알파벳)\n",
    "\n",
    "# DP로 생각하고 풀이하였으나 사실상 DP로 보기 힘들다.\n",
    "# 왜냐하면 parameter가 n을 따르지 않고 증가 부문자열의 길이 k를 따르기 때문이다.\n",
    "# 따라서 DP식을 점화식으로 나타낼 수 없다.\n",
    "\n",
    "def LIS_DP(seq):\n",
    "    def binary_search(target,left,right): # 이진 탐색\n",
    "        mid = (left+right) // 2\n",
    "        middle = DP[mid]\n",
    "        if middle == target: # 같을 경우, DP를 그대로 유지\n",
    "            return mid\n",
    "        if middle < target and target < DP[mid + 1]: # target이 현재 조사하고 있는 위치의 DP 값보다 크고, 다음 위치의 DP 값보다 작다면, 다음 위치의 DP 값을 갱신한다.\n",
    "            return mid + 1 # DP의 정의가 길이가 k인 부문자열 중 더 작은 수를 저장하는 것이기 때문!\n",
    "        elif middle < target:\n",
    "            return binary_search(target,mid+1,right) # 오른쪽 부분 조사\n",
    "        else:\n",
    "            return binary_search(target,left,mid - 1) # 왼쪽 부분 조사\n",
    "\n",
    "    DP = [27] * 27 # DP[k]는 k개의 부문자열로 이루어진 최소 알파벳 <- a~z <- 1 ~ 26 숫자로 맵핑\n",
    "    DP[0] = 0 # DP[1]이 갱신 되도록 하기 위해서, seq의 첫수부터 자연스럽게 DP에 저장되도록 하기위함\n",
    "    cur_k = 0 # 현재 k, 즉 현재까지의 LIS의 길이를 저장하는 변수\n",
    "    for c in seq: # seq 입력 문자열을 순회하며\n",
    "        target = ord(c) - 97 + 1 # a~z -> 1 ~ 26 맵핑\n",
    "        if DP[cur_k] < target: # k가 1 증가하는 경우: 현재까지 저장된 앞파벳보다 크므로 LIS 만족\n",
    "            cur_k += 1 # k + 1\n",
    "            DP[cur_k] = target # 증가한 k에 맞춰 현재 알파벳을 DP에 저장\n",
    "        else: # LIS의 길이를 늘리지 못하는 경우, 이전 값들을 최적화. 즉, DP[k]가 LIS k길이의 최소 알파벳이도록 갱신\n",
    "            DP[binary_search(target, 0, cur_k)] = target # DP가 오름차순이 되므로, 이진 탐색(logn)으로 갱신할 위치를 찾는다.\n",
    "    return cur_k # seq를 마지막까지 순회했을 때의 k: 현재까지의 LIS의 길이\n",
    "\n",
    "seq = input()  # 알파벳 소문자로만 구성된 string 하나가 입력된다\n",
    "print(LIS_DP(seq))"
   ]
  },
  {
   "cell_type": "code",
   "execution_count": 1,
   "metadata": {},
   "outputs": [
    {
     "data": {
      "text/plain": [
       "99"
      ]
     },
     "execution_count": 1,
     "metadata": {},
     "output_type": "execute_result"
    }
   ],
   "source": [
    "ord('c')"
   ]
  },
  {
   "cell_type": "code",
   "execution_count": null,
   "metadata": {},
   "outputs": [],
   "source": []
  }
 ],
 "metadata": {
  "interpreter": {
   "hash": "a7401fdbc441e771371315dfd74d70672a7e5696f5857508b031491b5c8705db"
  },
  "kernelspec": {
   "display_name": "Python 3.8.10 64-bit ('base': conda)",
   "name": "python3"
  },
  "language_info": {
   "codemirror_mode": {
    "name": "ipython",
    "version": 3
   },
   "file_extension": ".py",
   "mimetype": "text/x-python",
   "name": "python",
   "nbconvert_exporter": "python",
   "pygments_lexer": "ipython3",
   "version": "3.8.10"
  },
  "orig_nbformat": 4
 },
 "nbformat": 4,
 "nbformat_minor": 2
}
