{
 "cells": [
  {
   "cell_type": "code",
   "execution_count": null,
   "metadata": {},
   "outputs": [],
   "source": [
    "import sys\n",
    "A = list(map(int, sys.stdin.readline().split()))\n",
    "n = len(A)\n",
    "DP = [[0]*n for i in range(n)]\n",
    "res = 0\n",
    "\n",
    "for i in range(n):\n",
    "    DP[i][i]=A[i]\n",
    "    res+=DP[i][i]\n",
    "    for j in range(i+1,n):\n",
    "        DP[i][j] = min(A[j], DP[i][j-1])\n",
    "        res+=DP[i][j]\n",
    "print(res)\n",
    "\n"
   ]
  }
 ],
 "metadata": {
  "language_info": {
   "name": "python"
  },
  "orig_nbformat": 4
 },
 "nbformat": 4,
 "nbformat_minor": 2
}
