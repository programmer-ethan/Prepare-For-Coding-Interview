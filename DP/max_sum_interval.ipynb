{
 "cells": [
  {
   "cell_type": "code",
   "execution_count": 4,
   "source": [
    "def interval_max(A):\r\n",
    "    n = len(A)\r\n",
    "    DP = [[0]*n for i in range(n)]# i 다음부터 j까지 더한 수\r\n",
    "    Max = [0]*n\r\n",
    "    max_L=0\r\n",
    "    max_R=0\r\n",
    "    for i in range(n):\r\n",
    "        j=i-1\r\n",
    "        while j>=0:\r\n",
    "            DP[i][j] = DP[i][j+1] + A[j]\r\n",
    "            j-=1\r\n",
    "        k=i+1\r\n",
    "        while k<n:\r\n",
    "            DP[i][k] = DP[i][k-1] + A[k]\r\n",
    "            k+=1\r\n",
    "        #이제 DP i행 완성\r\n",
    "        for l in range(i): # 좌측 최대 합\r\n",
    "            if max_L < DP[i][l]:\r\n",
    "                max_L = DP[i][l]\r\n",
    "        for r in range(i+1,n): # 우측 최대 합\r\n",
    "            if max_R < DP[i][r]:\r\n",
    "                max_R = DP[i][r]\r\n",
    "        Max[i] = A[i] + max_L + max_R # 최대 합 구간\r\n",
    "        max_L=0\r\n",
    "        max_R=0\r\n",
    "    return Max\r\n",
    "A = [int(x) for x in input().split()]\r\n",
    "B = interval_max(A)\r\n",
    "for i in range(len(B)):\r\n",
    "    print(B[i], end=' ')"
   ],
   "outputs": [
    {
     "output_type": "stream",
     "name": "stdout",
     "text": [
      "1 2 2 1 2 "
     ]
    }
   ],
   "metadata": {}
  },
  {
   "cell_type": "code",
   "execution_count": null,
   "source": [
    "import copy\r\n",
    "\r\n",
    "a = [1, 2, 3, 4]\r\n",
    "b = copy.deepcopy(a)\r\n",
    "b[1] = 0\r\n",
    "print(a, b) # [1, 2, 3, 4] [1, 0, 3, 4]"
   ],
   "outputs": [],
   "metadata": {}
  },
  {
   "cell_type": "code",
   "execution_count": 16,
   "source": [
    "import math\r\n",
    "def interval_max2(A):\r\n",
    "    n = len(A)\r\n",
    "    L=[]\r\n",
    "    R=[]\r\n",
    "    sum_L=0\r\n",
    "    sum_R=0\r\n",
    "    Max=[]\r\n",
    "    for i in range(n):\r\n",
    "        sum_L += A[i]\r\n",
    "        sum_R += A[n-1-i]\r\n",
    "        L.append(sum_L)\r\n",
    "        R.append(sum_R)\r\n",
    "    Sum = L[n-1]\r\n",
    "    R.reverse()\r\n",
    "    for i in range(n):\r\n",
    "        L_min = 0\r\n",
    "        R_min = 0\r\n",
    "        for j in range(i):\r\n",
    "            L_min = min(L_min, L[j])\r\n",
    "        for j in range(i+1,n):\r\n",
    "            R_min = min(R_min, R[j])\r\n",
    "        Max.append(Sum - L_min - R_min)\r\n",
    "    return Max\r\n",
    "\r\n",
    "A = [int(x) for x in input().split()]\r\n",
    "B = interval_max2(A)\r\n",
    "for i in range(len(B)):\r\n",
    "    print(B[i], end=' ')"
   ],
   "outputs": [
    {
     "output_type": "stream",
     "name": "stdout",
     "text": [
      "212 212 212 212 212 212 177 177 177 177 177 151 86 86 86 105 115 176 176 176 176 176 204 275 305 305 305 305 305 305 305 305 305 295 295 295 295 295 295 295 295 295 295 295 293 293 224 221 213 202 202 202 202 292 292 292 292 292 271 271 271 271 271 271 271 271 271 271 271 271 271 271 271 271 271 271 271 271 271 271 188 181 181 181 181 162 139 42 15 -54 29 72 145 185 185 185 185 181 181 135 "
     ]
    }
   ],
   "metadata": {}
  },
  {
   "cell_type": "code",
   "execution_count": 24,
   "source": [
    "import math\r\n",
    "def interval_max2(A):\r\n",
    "    n = len(A)\r\n",
    "    L=[A[0]] #L[i]로 끝나는 최대 값\r\n",
    "    R=[A[n-1]] #우측부터 R[i]로 끝나는 최대 값\r\n",
    "    Max=[] # L + R\r\n",
    "    for i in range(1,n):\r\n",
    "        max_L = max(A[i],L[i-1] + A[i])\r\n",
    "        max_R = max(A[n-1-i],R[i-1] + A[n-1-i])\r\n",
    "        L.append(max_L)\r\n",
    "        R.append(max_R)\r\n",
    "    R.reverse()\r\n",
    "    for i in range(n-1):\r\n",
    "        Max.append(max(L[i], L[i] + R[i+1]))\r\n",
    "    Max.append(L[n-1])\r\n",
    "    return Max\r\n",
    "\r\n",
    "A = [int(x) for x in input().split()]\r\n",
    "B = interval_max2(A)\r\n",
    "for i in range(len(B)):\r\n",
    "    print(B[i], end=' ')"
   ],
   "outputs": [
    {
     "output_type": "stream",
     "name": "stdout",
     "text": [
      "212 212 212 212 212 212 177 177 177 177 177 151 86 86 86 105 115 176 176 176 176 176 204 275 305 305 305 305 305 305 305 305 305 295 295 295 295 295 295 295 295 295 295 295 293 293 224 221 213 202 202 202 202 292 292 292 292 292 271 271 271 271 271 271 271 271 271 271 271 271 271 271 271 271 271 271 271 271 271 271 188 181 181 181 181 162 139 42 15 -54 29 72 145 185 185 185 185 181 181 135 "
     ]
    }
   ],
   "metadata": {}
  },
  {
   "cell_type": "code",
   "execution_count": null,
   "source": [
    "#[최종 제출]\r\n",
    "# DP 방식으로 왼쪽부터 L[i]로 끝나는 최대구간합과 \r\n",
    "# 오른쪽부터 R[i]로 끝나는 최대 구간합을 구한다.\r\n",
    "# 결국, 해당 A[i]를 기준으로 어디까지를 더하면 최대 구간합인지를 판단하기 위해서\r\n",
    "# 앞, 뒤로 점차 더해가서 음수가 되는 부분들은 제거해 주는 것이다.\r\n",
    "# 그렇게 L, R을 구하면 최종적으로 원하는 리스트 Max는 L[i]에 R[i+1]이 양수일 경우 더해준 값이 된다.\r\n",
    "# 그렇게 하면 Max[i] 각각의 원소는 A[i]를 포함하는 최대 구간 합이 된다.\r\n",
    "# 그 과정에서 n번의 순회 안에서는 모두 상수연산을 수행하므로\r\n",
    "# 최악의 경우 수행시간 O(n)이다.\r\n",
    "\r\n",
    "def interval_max(A):\r\n",
    "    n = len(A)\r\n",
    "    L=[A[0]] # 좌측부터 A[i]로 끝나는 최대 구간 합\r\n",
    "    R=[A[n-1]] #우측부터 A[i]로 끝나는 최대 구간 합\r\n",
    "    Max=[] # 최종 리스트: A[i]를 포함하는 최대 구간 합\r\n",
    "    for i in range(1,n):\r\n",
    "        max_L = max(A[i],L[i-1] + A[i]) # L[i-1]이 양수이면 A[i]값에 더해준다.\r\n",
    "        max_R = max(A[n-1-i],R[i-1] + A[n-1-i]) # R[i-1]이 양수이면 A[n-1-i](뒤에서 i번째 수)값에 더해준다.\r\n",
    "        L.append(max_L)\r\n",
    "        R.append(max_R)\r\n",
    "    R.reverse() # 오른쪽 값부터 더했으나, 만들어진 리스트는 왼쪽부터 이므로 reverse\r\n",
    "    for i in range(n-1):\r\n",
    "        Max.append(max(L[i], L[i] + R[i+1])) # Max[i]는 L[i]에 R[i+1]이 양수일 경우 더해준 값이 된다.\r\n",
    "    Max.append(L[n-1]) # 마지막에는 R이 index 벗어나므로.\r\n",
    "    return Max\r\n",
    "\r\n",
    "A = [int(x) for x in input().split()]\r\n",
    "B = interval_max(A)\r\n",
    "for i in range(len(B)):\r\n",
    "    print(B[i], end=' ')"
   ],
   "outputs": [],
   "metadata": {}
  }
 ],
 "metadata": {
  "orig_nbformat": 4,
  "language_info": {
   "name": "python",
   "version": "3.8.10",
   "mimetype": "text/x-python",
   "codemirror_mode": {
    "name": "ipython",
    "version": 3
   },
   "pygments_lexer": "ipython3",
   "nbconvert_exporter": "python",
   "file_extension": ".py"
  },
  "kernelspec": {
   "name": "python3",
   "display_name": "Python 3.8.10 64-bit ('base': conda)"
  },
  "interpreter": {
   "hash": "a7401fdbc441e771371315dfd74d70672a7e5696f5857508b031491b5c8705db"
  }
 },
 "nbformat": 4,
 "nbformat_minor": 2
}