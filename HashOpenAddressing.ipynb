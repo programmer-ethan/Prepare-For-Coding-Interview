{
 "cells": [
  {
   "cell_type": "code",
   "execution_count": 1,
   "source": [
    "class HashOpenAddr:\r\n",
    "    def __init__(self, size=10):\r\n",
    "        self.size = size\r\n",
    "        self.keys = [None]*self.size\r\n",
    "        self.values = [None]*self.size\r\n",
    "    def __str__(self):\r\n",
    "        s = \"\"\r\n",
    "        for k in self:\r\n",
    "            if k == None:\r\n",
    "                t = \"{0:5s}|\".format(\"\")\r\n",
    "            else:\r\n",
    "                t = \"{0:-5d}|\".format(k)\r\n",
    "            s = s + t\r\n",
    "        return s\r\n",
    "    def __iter__(self):\r\n",
    "        for i in range(self.size):\r\n",
    "            yield self.keys[i]\r\n",
    "\r\n",
    "    def find_slot(self, key):\r\n",
    "        i = self.hash_function(key)\r\n",
    "        start = i\r\n",
    "        while ( self.keys[i] != None ) and ( self.keys[i] != key ):\r\n",
    "            i = (i + 1) % self.size\r\n",
    "            if (i == start): return None\r\n",
    "        return i\r\n",
    "\r\n",
    "    def set(self, key, value=None):\r\n",
    "        i = self.find_slot(key)\r\n",
    "        if i == None: return None\r\n",
    "        if self.keys[i] != None:\r\n",
    "            self.values[i] = value\r\n",
    "        # n=0\r\n",
    "        # for k in self:\r\n",
    "        #     if k != None: n+=1\r\n",
    "        # if self.size < 2*n:\r\n",
    "        #     self.keys += [None]*self.size\r\n",
    "        #     self.values += [None]*self.size\r\n",
    "        #     self.size = self.size*2\r\n",
    "        #     i = self.find_slot(key)\r\n",
    "        else:\r\n",
    "            self.keys[i] = key\r\n",
    "            self.values[i] = value\r\n",
    "        return key\r\n",
    "        \r\n",
    "    def hash_function(self, key):\r\n",
    "        return key % self.size\r\n",
    "\r\n",
    "    def remove(self, key):\r\n",
    "        i = self.find_slot(key)\r\n",
    "        if self.keys[i] == None:\r\n",
    "            return None\r\n",
    "        j = i\r\n",
    "        while True:\r\n",
    "            self.keys[i] = None # mark??\r\n",
    "            while True:\r\n",
    "                j = (j+1) % self.size\r\n",
    "                if self.keys[j] == None:\r\n",
    "                    return key\r\n",
    "                k = self.hash_function(self.keys[j])#\r\n",
    "                if not (i < k <= j or j < i < k or k <= j < i):\r\n",
    "                    break\r\n",
    "            self.keys[i] = self.keys[j]\r\n",
    "            i = j \r\n",
    "        \r\n",
    "    def search(self, key):\r\n",
    "        i = self.find_slot(key)\r\n",
    "        if self.keys[i] == None:\r\n",
    "            return None\r\n",
    "        else:\r\n",
    "            return self.keys[i]\r\n",
    "\r\n",
    "    def __getitem__(self, key):\r\n",
    "        return self.search(key)\r\n",
    "    def __setitem__(self, key, value):\r\n",
    "        self.set(key, value)"
   ],
   "outputs": [],
   "metadata": {}
  },
  {
   "cell_type": "code",
   "execution_count": 2,
   "source": [
    "H = HashOpenAddr()\r\n",
    "while True:\r\n",
    "    cmd = input().split()\r\n",
    "    if cmd[0] == 'set':\r\n",
    "        key = H.set(int(cmd[1]))\r\n",
    "        if key == None: print(\"* H is full!\")\r\n",
    "        else: print(\"+ {0} is set into H\".format(cmd[1]))\r\n",
    "    elif cmd[0] == 'search':\r\n",
    "        key = H.search(int(cmd[1]))\r\n",
    "        if key == None: print(\"* {0} is not found!\".format(cmd[1]))\r\n",
    "        else: print(\" * {0} is found!\".format(cmd[1]))\r\n",
    "    elif cmd[0] == 'remove':\r\n",
    "        key = H.remove(int(cmd[1]))\r\n",
    "        if key == None:\r\n",
    "            print(\"- {0} is not found, so nothing happens\".format(cmd[1]))\r\n",
    "        else:\r\n",
    "            print(\"- {0} is removed\".format(cmd[1]))\r\n",
    "    elif cmd[0] == 'print':\r\n",
    "        print(H)\r\n",
    "    elif cmd[0] == 'exit':\r\n",
    "        break\r\n",
    "    else:\r\n",
    "        print(\"* not allowed command. enter a proper command!\")"
   ],
   "outputs": [
    {
     "output_type": "stream",
     "name": "stdout",
     "text": [
      "1\n"
     ]
    }
   ],
   "metadata": {}
  },
  {
   "cell_type": "code",
   "execution_count": null,
   "source": [],
   "outputs": [],
   "metadata": {}
  }
 ],
 "metadata": {
  "orig_nbformat": 4,
  "language_info": {
   "name": "python",
   "version": "3.8.10",
   "mimetype": "text/x-python",
   "codemirror_mode": {
    "name": "ipython",
    "version": 3
   },
   "pygments_lexer": "ipython3",
   "nbconvert_exporter": "python",
   "file_extension": ".py"
  },
  "kernelspec": {
   "name": "python3",
   "display_name": "Python 3.8.10 64-bit ('base': conda)"
  },
  "interpreter": {
   "hash": "a7401fdbc441e771371315dfd74d70672a7e5696f5857508b031491b5c8705db"
  }
 },
 "nbformat": 4,
 "nbformat_minor": 2
}