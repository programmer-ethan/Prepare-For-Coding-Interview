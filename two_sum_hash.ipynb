{
 "cells": [
  {
   "cell_type": "code",
   "execution_count": 1,
   "source": [
    "def quick_sort(A,first,last):\r\n",
    "\tif first >= last: return\r\n",
    "\tleft, right=first+1,last\r\n",
    "\tpivot = A[first]\r\n",
    "\twhile left <= right:\r\n",
    "\t\twhile left <= last and A[left] <pivot:\r\n",
    "\t\t\tleft +=1\r\n",
    "\t\twhile right > first and A[right] > pivot:\r\n",
    "\t\t\tright -=1\r\n",
    "\t\tif left <= right:\r\n",
    "\t\t\tA[left], A[right] = A[right], A[left]\r\n",
    "\t\t\tleft+=1\r\n",
    "\t\t\tright-=1\r\n",
    "\tA[first], A[right]=A[right], A[first]\r\n",
    "\tquick_sort(A, first, right-1)\r\n",
    "\tquick_sort(A,right+1,last)"
   ],
   "outputs": [],
   "metadata": {}
  },
  {
   "cell_type": "code",
   "execution_count": 2,
   "source": [
    "def solve_sort(A,k,n):\r\n",
    "\tL=0\r\n",
    "\tR=n-1\r\n",
    "\tcnt=0\r\n",
    "\twhile True:\r\n",
    "\t\ttwo_sum = A[L] + A[R]\r\n",
    "\t\tif L >= R:\r\n",
    "\t\t\tbreak\r\n",
    "\t\telif two_sum < k:\r\n",
    "\t\t\tL+=1\r\n",
    "\t\telif two_sum > k:\r\n",
    "\t\t\tR-=1\r\n",
    "\t\telse:\r\n",
    "\t\t\tL+=1\r\n",
    "\t\t\tR-=1\r\n",
    "\t\t\tcnt+=1\r\n",
    "\treturn cnt"
   ],
   "outputs": [
    {
     "output_type": "stream",
     "name": "stdout",
     "text": [
      "1\n"
     ]
    }
   ],
   "metadata": {}
  },
  {
   "cell_type": "code",
   "execution_count": null,
   "source": [
    "def solve_dict_KeyError(A,k):\r\n",
    "    B = {} # dict 생성\r\n",
    "    cnt = 0 # 합이 k가 되는 쌍의 개수\r\n",
    "    temp = 0 # 임시 저장 공간\r\n",
    "    for i in A: # 입력을 순회하며 O(n)\r\n",
    "        try: # key 'k-i' 가 존재하는지 확인\r\n",
    "            temp = B[k-i] # -> 존재하면 합이 k가 되는 순서쌍을 찾은 것 -> key error가 발생하지 않고 else로 이동\r\n",
    "        except KeyError: # 해당 key가 존재하지 않으면,\r\n",
    "            B[i]=k-i # key는 A[i], value는 k - A[i]로 dict 원소 추가\r\n",
    "        else:\r\n",
    "            cnt+=1 # 합이 k인 순서쌍을 찾았으므로 cnt+=1\r\n",
    "    return cnt # 합이 k 되는 쌍의 개수 return"
   ],
   "outputs": [],
   "metadata": {}
  },
  {
   "cell_type": "code",
   "execution_count": null,
   "source": [
    "def solve_dict(A,k):\r\n",
    "    B = {}\r\n",
    "    cnt = 0\r\n",
    "    for i in A:\r\n",
    "        if i != k-i: # key와 value가 같으면, 쌍이 될 수 없다.\r\n",
    "            B[k-i]=i\r\n",
    "    for num in A:\r\n",
    "        if num in B.keys():\r\n",
    "            cnt+=1\r\n",
    "    return cnt // 2 # 두개의 쌍 각각에서 더해지므로"
   ],
   "outputs": [],
   "metadata": {}
  },
  {
   "cell_type": "code",
   "execution_count": null,
   "source": [
    "k = int(input())\r\n",
    "A = [int(x) for x in input().split()]\r\n",
    "n=len(A)\r\n",
    "quick_sort(A,0,n-1)\r\n",
    "print(solve_sort(A,k,n))"
   ],
   "outputs": [],
   "metadata": {}
  }
 ],
 "metadata": {
  "orig_nbformat": 4,
  "language_info": {
   "name": "python",
   "version": "3.8.10",
   "mimetype": "text/x-python",
   "codemirror_mode": {
    "name": "ipython",
    "version": 3
   },
   "pygments_lexer": "ipython3",
   "nbconvert_exporter": "python",
   "file_extension": ".py"
  },
  "kernelspec": {
   "name": "python3",
   "display_name": "Python 3.8.10 64-bit ('base': conda)"
  },
  "interpreter": {
   "hash": "a7401fdbc441e771371315dfd74d70672a7e5696f5857508b031491b5c8705db"
  }
 },
 "nbformat": 4,
 "nbformat_minor": 2
}