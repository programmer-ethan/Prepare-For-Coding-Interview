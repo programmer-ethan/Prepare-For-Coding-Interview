{
 "cells": [
  {
   "cell_type": "code",
   "execution_count": null,
   "source": [
    "# O(n)이었는데...\r\n",
    "# set에 존재성 여부로 하면\r\n",
    "# 즉... set을 만들고 새로운 문자가 포함되는지 판단하면..?\r\n",
    "# 처음걸로 하려면, 같을 때 갱신 안하면 된다.\r\n",
    "# set을 그러면 리스트... 여야 하나?\r\n",
    "# 더 간단한 O(n)으로도 되지 않을까? 앞에서부터\r\n",
    "def LIS_DP(seq):\r\n",
    "\tn=len(seq)\r\n",
    "\t# x=[0]*n\r\n",
    "\tDP=[1]*n\r\n",
    "\tfor k in range(1,n):\r\n",
    "\t\tfor j in range(k):\r\n",
    "\t\t\tif seq[j]<seq[k]:\r\n",
    "\t\t\t\tDP[k]=max(DP[k],DP[j]+1)\r\n",
    "\tfor k in range(n):\r\n",
    "\t\treturn max(DP)\r\n",
    "    # code here\r\n",
    "\r\n",
    "seq = input()  # 알파벳 소문자로만 구성된 string 하나가 입력된다\r\n",
    "# lis, x = LIS_DP(seq)\r\n",
    "lis = LIS_DP(seq)\r\n",
    "print(lis)"
   ],
   "outputs": [],
   "metadata": {}
  }
 ],
 "metadata": {
  "orig_nbformat": 4,
  "language_info": {
   "name": "python"
  }
 },
 "nbformat": 4,
 "nbformat_minor": 2
}